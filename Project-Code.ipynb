{
 "cells": [
  {
   "cell_type": "markdown",
   "metadata": {},
   "source": [
    "# Welcome to Company Financial Data Preprocessing Project!\n",
    "### `Dataset Source`\n",
    "This dataset is downloaded from Kaggle.com, author Atharva Arya [Company Financial Dataset](https://www.kaggle.com/datasets/atharvaarya25/financials)\n",
    "\n",
    "### `Information and Guideline`\n",
    "Please refer to our GitHub Main Repository Page [GitHub Repository](https://github.com/Jen-uis/Preprocessing-Financial-Data)  \n",
    "  \n",
    "This Project is mainly provided for educational purposes only. Please do not republish it for monetary value without original author's autorization.\n",
    "\n",
    "### `Author`\n",
    "This Project is created By Nathaniel Zhu [GitHub @Jen-uis](https://github.com/Jen-uis) on June 15th, 2024."
   ]
  },
  {
   "cell_type": "markdown",
   "metadata": {},
   "source": [
    "## Project Guideline\n",
    "    - TBD"
   ]
  },
  {
   "cell_type": "markdown",
   "metadata": {},
   "source": [
    "## Main Objectives For this analysis\n",
    "If you are going educational purposes, do not view the solutions and try to resolve them on your own, then refer to each solution in Section I. Have fun!\n",
    "\n",
    "\n",
    "- Numbers are formatted incorrectly: e.g. $22,00,000 rather than $2,200,000\n",
    "- If we are following US Date, Date is formatted incorrectly: 01/06/2014 rather than 06/01/2024. Then sort them in order from Jan to Dec in ascending order.\n",
    "- Units Sold column numbers are in Currency format, need to reformat them into general numbers. Besides there are 0.5 (half) units sold, we are going to round them up to the closest whole number.\n",
    "- Remove all dollar sign\n",
    "- Under Discounts, change \"-\" into \"0\" for better mathematical analysis\n",
    "- Change data type from objects into integer\n",
    "- (Optional) remove \",\" (comma) from all numerical numbers (try If Else)\n",
    "- (Optional) Plot Sales and Profits with respect to Timeline"
   ]
  },
  {
   "cell_type": "markdown",
   "metadata": {},
   "source": [
    "## Section I: Data Pre-Processing"
   ]
  },
  {
   "cell_type": "code",
   "execution_count": 1,
   "metadata": {},
   "outputs": [],
   "source": [
    "# Importing Necessary Packages\n",
    "import pandas as pd\n",
    "import numpy as np"
   ]
  },
  {
   "cell_type": "code",
   "execution_count": 3,
   "metadata": {},
   "outputs": [
    {
     "data": {
      "text/html": [
       "<div>\n",
       "<style scoped>\n",
       "    .dataframe tbody tr th:only-of-type {\n",
       "        vertical-align: middle;\n",
       "    }\n",
       "\n",
       "    .dataframe tbody tr th {\n",
       "        vertical-align: top;\n",
       "    }\n",
       "\n",
       "    .dataframe thead th {\n",
       "        text-align: right;\n",
       "    }\n",
       "</style>\n",
       "<table border=\"1\" class=\"dataframe\">\n",
       "  <thead>\n",
       "    <tr style=\"text-align: right;\">\n",
       "      <th></th>\n",
       "      <th>Segment</th>\n",
       "      <th>Country</th>\n",
       "      <th>Product</th>\n",
       "      <th>Discount Band</th>\n",
       "      <th>Units Sold</th>\n",
       "      <th>Manufacturing Price</th>\n",
       "      <th>Sale Price</th>\n",
       "      <th>Gross Sales</th>\n",
       "      <th>Discounts</th>\n",
       "      <th>Sales</th>\n",
       "      <th>COGS</th>\n",
       "      <th>Profit</th>\n",
       "      <th>Date</th>\n",
       "      <th>Month Number</th>\n",
       "      <th>Month Name</th>\n",
       "      <th>Year</th>\n",
       "    </tr>\n",
       "  </thead>\n",
       "  <tbody>\n",
       "    <tr>\n",
       "      <th>0</th>\n",
       "      <td>Government</td>\n",
       "      <td>Canada</td>\n",
       "      <td>Carretera</td>\n",
       "      <td>None</td>\n",
       "      <td>$1,618.50</td>\n",
       "      <td>$3.00</td>\n",
       "      <td>$20.00</td>\n",
       "      <td>$32,370.00</td>\n",
       "      <td>$-</td>\n",
       "      <td>$32,370.00</td>\n",
       "      <td>$16,185.00</td>\n",
       "      <td>$16,185.00</td>\n",
       "      <td>01/01/2014</td>\n",
       "      <td>1</td>\n",
       "      <td>January</td>\n",
       "      <td>2014</td>\n",
       "    </tr>\n",
       "    <tr>\n",
       "      <th>1</th>\n",
       "      <td>Government</td>\n",
       "      <td>Germany</td>\n",
       "      <td>Carretera</td>\n",
       "      <td>None</td>\n",
       "      <td>$1,321.00</td>\n",
       "      <td>$3.00</td>\n",
       "      <td>$20.00</td>\n",
       "      <td>$26,420.00</td>\n",
       "      <td>$-</td>\n",
       "      <td>$26,420.00</td>\n",
       "      <td>$13,210.00</td>\n",
       "      <td>$13,210.00</td>\n",
       "      <td>01/01/2014</td>\n",
       "      <td>1</td>\n",
       "      <td>January</td>\n",
       "      <td>2014</td>\n",
       "    </tr>\n",
       "    <tr>\n",
       "      <th>2</th>\n",
       "      <td>Midmarket</td>\n",
       "      <td>France</td>\n",
       "      <td>Carretera</td>\n",
       "      <td>None</td>\n",
       "      <td>$2,178.00</td>\n",
       "      <td>$3.00</td>\n",
       "      <td>$15.00</td>\n",
       "      <td>$32,670.00</td>\n",
       "      <td>$-</td>\n",
       "      <td>$32,670.00</td>\n",
       "      <td>$21,780.00</td>\n",
       "      <td>$10,890.00</td>\n",
       "      <td>01/06/2014</td>\n",
       "      <td>6</td>\n",
       "      <td>June</td>\n",
       "      <td>2014</td>\n",
       "    </tr>\n",
       "    <tr>\n",
       "      <th>3</th>\n",
       "      <td>Midmarket</td>\n",
       "      <td>Germany</td>\n",
       "      <td>Carretera</td>\n",
       "      <td>None</td>\n",
       "      <td>$888.00</td>\n",
       "      <td>$3.00</td>\n",
       "      <td>$15.00</td>\n",
       "      <td>$13,320.00</td>\n",
       "      <td>$-</td>\n",
       "      <td>$13,320.00</td>\n",
       "      <td>$8,880.00</td>\n",
       "      <td>$4,440.00</td>\n",
       "      <td>01/06/2014</td>\n",
       "      <td>6</td>\n",
       "      <td>June</td>\n",
       "      <td>2014</td>\n",
       "    </tr>\n",
       "    <tr>\n",
       "      <th>4</th>\n",
       "      <td>Midmarket</td>\n",
       "      <td>Mexico</td>\n",
       "      <td>Carretera</td>\n",
       "      <td>None</td>\n",
       "      <td>$2,470.00</td>\n",
       "      <td>$3.00</td>\n",
       "      <td>$15.00</td>\n",
       "      <td>$37,050.00</td>\n",
       "      <td>$-</td>\n",
       "      <td>$37,050.00</td>\n",
       "      <td>$24,700.00</td>\n",
       "      <td>$12,350.00</td>\n",
       "      <td>01/06/2014</td>\n",
       "      <td>6</td>\n",
       "      <td>June</td>\n",
       "      <td>2014</td>\n",
       "    </tr>\n",
       "  </tbody>\n",
       "</table>\n",
       "</div>"
      ],
      "text/plain": [
       "      Segment  Country     Product   Discount Band   Units Sold   \\\n",
       "0  Government   Canada   Carretera            None    $1,618.50    \n",
       "1  Government  Germany   Carretera            None    $1,321.00    \n",
       "2   Midmarket   France   Carretera            None    $2,178.00    \n",
       "3   Midmarket  Germany   Carretera            None      $888.00    \n",
       "4   Midmarket   Mexico   Carretera            None    $2,470.00    \n",
       "\n",
       "   Manufacturing Price   Sale Price   Gross Sales   Discounts         Sales   \\\n",
       "0                $3.00       $20.00    $32,370.00        $-      $32,370.00    \n",
       "1                $3.00       $20.00    $26,420.00        $-      $26,420.00    \n",
       "2                $3.00       $15.00    $32,670.00        $-      $32,670.00    \n",
       "3                $3.00       $15.00    $13,320.00        $-      $13,320.00    \n",
       "4                $3.00       $15.00    $37,050.00        $-      $37,050.00    \n",
       "\n",
       "          COGS        Profit         Date  Month Number  Month Name   Year  \n",
       "0   $16,185.00    $16,185.00   01/01/2014             1     January   2014  \n",
       "1   $13,210.00    $13,210.00   01/01/2014             1     January   2014  \n",
       "2   $21,780.00    $10,890.00   01/06/2014             6        June   2014  \n",
       "3    $8,880.00     $4,440.00   01/06/2014             6        June   2014  \n",
       "4   $24,700.00    $12,350.00   01/06/2014             6        June   2014  "
      ]
     },
     "execution_count": 3,
     "metadata": {},
     "output_type": "execute_result"
    }
   ],
   "source": [
    "# Loading dataset\n",
    "financial_data = pd.read_csv(\"Data/Financials.csv\")\n",
    "\n",
    "# View some lines to understand the data\n",
    "financial_data.head(5)"
   ]
  },
  {
   "cell_type": "code",
   "execution_count": 1,
   "metadata": {},
   "outputs": [
    {
     "ename": "NameError",
     "evalue": "name 'financial_data' is not defined",
     "output_type": "error",
     "traceback": [
      "\u001b[0;31m---------------------------------------------------------------------------\u001b[0m",
      "\u001b[0;31mNameError\u001b[0m                                 Traceback (most recent call last)",
      "Cell \u001b[0;32mIn[1], line 2\u001b[0m\n\u001b[1;32m      1\u001b[0m \u001b[38;5;66;03m# Check for special values in each columns\u001b[39;00m\n\u001b[0;32m----> 2\u001b[0m \u001b[38;5;28;01mfor\u001b[39;00m value \u001b[38;5;129;01min\u001b[39;00m \u001b[43mfinancial_data\u001b[49m[\u001b[38;5;124m'\u001b[39m\u001b[38;5;124mSegment\u001b[39m\u001b[38;5;124m'\u001b[39m, \u001b[38;5;124m'\u001b[39m\u001b[38;5;124mCountry\u001b[39m\u001b[38;5;124m'\u001b[39m]\u001b[38;5;241m.\u001b[39munique():\n\u001b[1;32m      3\u001b[0m     \u001b[38;5;28mprint\u001b[39m(value)\n",
      "\u001b[0;31mNameError\u001b[0m: name 'financial_data' is not defined"
     ]
    }
   ],
   "source": [
    "# Check for special values in each columns\n",
    "for value in financial_data['Segment', 'Country'].unique():\n",
    "    print(value)"
   ]
  }
 ],
 "metadata": {
  "kernelspec": {
   "display_name": "Python 3",
   "language": "python",
   "name": "python3"
  },
  "language_info": {
   "codemirror_mode": {
    "name": "ipython",
    "version": 3
   },
   "file_extension": ".py",
   "mimetype": "text/x-python",
   "name": "python",
   "nbconvert_exporter": "python",
   "pygments_lexer": "ipython3",
   "version": "3.12.2"
  }
 },
 "nbformat": 4,
 "nbformat_minor": 2
}
