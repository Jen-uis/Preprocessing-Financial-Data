{
 "cells": [
  {
   "cell_type": "markdown",
   "metadata": {},
   "source": [
    "# Welcome to Company Financial Data Preprocessing Project!\n",
    "## Company Financial Dataset\n",
    "\n",
    "### Information and Guideline\n",
    "Please refer to our GitHub Main Repository Page [GitHub Repository](https://github.com/Jen-uis/Preprocessing-Financial-Data)\n",
    "\n",
    "### Author\n",
    "This Project is created By Nathaniel Zhu GitHub [@Jen-uis](https://github.com/Jen-uis) on June 15th, 2024."
   ]
  },
  {
   "cell_type": "code",
   "execution_count": null,
   "metadata": {},
   "outputs": [],
   "source": []
  }
 ],
 "metadata": {
  "language_info": {
   "name": "python"
  }
 },
 "nbformat": 4,
 "nbformat_minor": 2
}
